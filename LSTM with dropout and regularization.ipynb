{
 "cells": [
  {
   "cell_type": "code",
   "execution_count": 103,
   "metadata": {},
   "outputs": [],
   "source": [
    "from keras.layers import Embedding, Dense, LSTM, Activation, Dropout, BatchNormalization, GRU\n",
    "from keras.models import Sequential\n",
    "from keras import regularizers\n",
    "from keras.utils.np_utils import to_categorical\n",
    "from sklearn.model_selection import train_test_split\n",
    "from preprocessing2 import *"
   ]
  },
  {
   "cell_type": "code",
   "execution_count": 16,
   "metadata": {
    "collapsed": true
   },
   "outputs": [],
   "source": [
    "def split_data(df, ratio, state=1):\n",
    "    \"\"\"\n",
    "    :param ratio: test fraction\n",
    "    :param state: random_state\n",
    "    :return:\n",
    "    \"\"\"\n",
    "    X = df.text.values\n",
    "    y = df.author.values\n",
    "    X_train, X_test, y_train, y_test = train_test_split(X, y, train_size=ratio, random_state=state)\n",
    "    return X_train, X_test, y_train, y_test"
   ]
  },
  {
   "cell_type": "code",
   "execution_count": 17,
   "metadata": {
    "collapsed": true
   },
   "outputs": [],
   "source": [
    "def encode_authors(labels):\n",
    "    \"\"\"\n",
    "    :param labels: np.array or list of string authors\n",
    "    :return: categorical list (for keras)\n",
    "    \"\"\"\n",
    "    authors_vocab = {\"EAP\": 0, \"HPL\": 1, \"MWS\": 2}\n",
    "    y = [authors_vocab[label] for label in labels]\n",
    "    y = to_categorical(y, num_classes=3)\n",
    "    return y"
   ]
  },
  {
   "cell_type": "code",
   "execution_count": 18,
   "metadata": {
    "collapsed": true
   },
   "outputs": [],
   "source": [
    "def encode_texts(text, embedding_vocab, embedding_size):\n",
    "    emb_func = lambda sent: sentence_to_emb(sent, embedding_vocab, embedding_size)\n",
    "    emb_texts = np.array([emb_func(sent) for sent in text])\n",
    "    return emb_texts"
   ]
  },
  {
   "cell_type": "code",
   "execution_count": 19,
   "metadata": {
    "collapsed": true
   },
   "outputs": [],
   "source": [
    "train_df = create_df(\"train.csv\")\n",
    "train_df.text = train_df.text.apply(clean_text)\n",
    "train_df.txt = train_df.text.apply(lambda row: lemmatize_text(row))"
   ]
  },
  {
   "cell_type": "code",
   "execution_count": 61,
   "metadata": {},
   "outputs": [],
   "source": [
    "vocab_size = 50000\n",
    "vocab = get_vocabulary(train_df, length=vocab_size)\n",
    "emb_vocab = embedding_mapping(vocab)\n",
    "emb_vocab_size = len(emb_vocab)"
   ]
  },
  {
   "cell_type": "code",
   "execution_count": 63,
   "metadata": {
    "collapsed": true
   },
   "outputs": [],
   "source": [
    "X_train, X_test, y_train, y_test = split_data(train_df, 0.8)\n",
    "embed_size = 64\n",
    "X_train = encode_texts(X_train, emb_vocab, embed_size)\n",
    "X_test = encode_texts(X_test, emb_vocab, embed_size)"
   ]
  },
  {
   "cell_type": "code",
   "execution_count": 64,
   "metadata": {
    "collapsed": true
   },
   "outputs": [],
   "source": [
    "y_train = encode_authors(y_train)\n",
    "y_test = encode_authors(y_test)"
   ]
  },
  {
   "cell_type": "code",
   "execution_count": 112,
   "metadata": {
    "collapsed": true
   },
   "outputs": [],
   "source": [
    "num_epochs = 3\n",
    "lstm_size = 50\n",
    "batch_size = 64"
   ]
  },
  {
   "cell_type": "code",
   "execution_count": 113,
   "metadata": {},
   "outputs": [],
   "source": [
    "x = Input(shape=(None,), dtype='int32')\n",
    "e = Embedding(emb_vocab_size, embed_size, mask_zero=True)(x)\n",
    "r = LSTM(lstm_size, return_sequences=False)(e)\n",
    "dr = Dropout(0.3)(r)\n",
    "p = Dense(3, activation='sigmoid')(dr)\n",
    "\n",
    "model = Model(x, p)\n",
    "model.compile(loss='categorical_crossentropy', optimizer='adam', metrics=[\"accuracy\"])"
   ]
  },
  {
   "cell_type": "code",
   "execution_count": 114,
   "metadata": {},
   "outputs": [
    {
     "name": "stdout",
     "output_type": "stream",
     "text": [
      "_________________________________________________________________\n",
      "Layer (type)                 Output Shape              Param #   \n",
      "=================================================================\n",
      "input_27 (InputLayer)        (None, None)              0         \n",
      "_________________________________________________________________\n",
      "embedding_28 (Embedding)     (None, None, 64)          1598848   \n",
      "_________________________________________________________________\n",
      "lstm_28 (LSTM)               (None, 50)                23000     \n",
      "_________________________________________________________________\n",
      "dropout_20 (Dropout)         (None, 50)                0         \n",
      "_________________________________________________________________\n",
      "dense_27 (Dense)             (None, 3)                 153       \n",
      "=================================================================\n",
      "Total params: 1,622,001\n",
      "Trainable params: 1,622,001\n",
      "Non-trainable params: 0\n",
      "_________________________________________________________________\n"
     ]
    }
   ],
   "source": [
    "model.summary()"
   ]
  },
  {
   "cell_type": "code",
   "execution_count": 115,
   "metadata": {
    "scrolled": true
   },
   "outputs": [
    {
     "name": "stdout",
     "output_type": "stream",
     "text": [
      "Epoch 1/3\n",
      "15663/15663 [==============================] - 46s - loss: 0.8113 - acc: 0.6451    \n",
      "Epoch 2/3\n",
      "15663/15663 [==============================] - 44s - loss: 0.3184 - acc: 0.8894    \n",
      "Epoch 3/3\n",
      "15663/15663 [==============================] - 42s - loss: 0.1493 - acc: 0.9497    \n"
     ]
    },
    {
     "data": {
      "text/plain": [
       "<keras.callbacks.History at 0x18a54bf4e10>"
      ]
     },
     "execution_count": 115,
     "metadata": {},
     "output_type": "execute_result"
    }
   ],
   "source": [
    "#model = baseline_model(emb_vocab_size, embed_size, lstm_size)\n",
    "model.fit(X_train, y_train, batch_size=batch_size, epochs=num_epochs)"
   ]
  },
  {
   "cell_type": "code",
   "execution_count": 116,
   "metadata": {},
   "outputs": [
    {
     "name": "stdout",
     "output_type": "stream",
     "text": [
      "3872/3916 [============================>.] - ETA: 0sAccuracy: 0.807201225801\n"
     ]
    }
   ],
   "source": [
    "scores = model.evaluate(X_test, y_test)\n",
    "print(\"Accuracy:\", scores[1])"
   ]
  }
 ],
 "metadata": {
  "kernelspec": {
   "display_name": "Python 3",
   "language": "python",
   "name": "python3"
  },
  "language_info": {
   "codemirror_mode": {
    "name": "ipython",
    "version": 3
   },
   "file_extension": ".py",
   "mimetype": "text/x-python",
   "name": "python",
   "nbconvert_exporter": "python",
   "pygments_lexer": "ipython3",
   "version": "3.6.1"
  }
 },
 "nbformat": 4,
 "nbformat_minor": 2
}
