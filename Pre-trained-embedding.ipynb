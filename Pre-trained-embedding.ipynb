{
 "cells": [
  {
   "cell_type": "code",
   "execution_count": 63,
   "metadata": {},
   "outputs": [],
   "source": [
    "from __future__ import print_function\n",
    "\n",
    "import os\n",
    "import sys\n",
    "import numpy as np\n",
    "from keras.preprocessing.text import Tokenizer\n",
    "from keras.preprocessing.sequence import pad_sequences\n",
    "from keras.utils import to_categorical\n",
    "from keras.layers import Dense, Input, GlobalMaxPooling1D\n",
    "from keras.layers import Conv1D, MaxPooling1D, Embedding, LSTM, Dropout, Activation\n",
    "from keras.models import Model\n",
    "from sklearn.model_selection import train_test_split\n",
    "from preprocessing2 import *"
   ]
  },
  {
   "cell_type": "code",
   "execution_count": 2,
   "metadata": {
    "collapsed": true
   },
   "outputs": [],
   "source": [
    "BASE_DIR = ''\n",
    "GLOVE_DIR = os.path.join(BASE_DIR, 'glove.6B')\n",
    "MAX_SEQUENCE_LENGTH = 100\n",
    "MAX_NB_WORDS = 20000\n",
    "EMBEDDING_DIM = 100"
   ]
  },
  {
   "cell_type": "code",
   "execution_count": 3,
   "metadata": {
    "collapsed": true
   },
   "outputs": [],
   "source": [
    "def split_data(df, ratio, state=1):\n",
    "    \"\"\"\n",
    "    :param ratio: test fraction\n",
    "    :param state: random_state\n",
    "    :return:\n",
    "    \"\"\"\n",
    "    X = df.text\n",
    "    y = df.author\n",
    "    X_train, X_test, y_train, y_test = train_test_split(X, y, train_size=ratio, random_state=state)\n",
    "    return X_train, X_test, y_train, y_test"
   ]
  },
  {
   "cell_type": "code",
   "execution_count": 4,
   "metadata": {
    "collapsed": true
   },
   "outputs": [],
   "source": [
    "def encode_authors(labels):\n",
    "    \"\"\"\n",
    "    :param labels: np.array or list of string authors\n",
    "    :return: categorical list (for keras)\n",
    "    \"\"\"\n",
    "    authors_vocab = {\"EAP\": 0, \"HPL\": 1, \"MWS\": 2}\n",
    "    y = [authors_vocab[label] for label in labels]\n",
    "    y = to_categorical(y, num_classes=3)\n",
    "    return y"
   ]
  },
  {
   "cell_type": "code",
   "execution_count": 5,
   "metadata": {
    "collapsed": true
   },
   "outputs": [],
   "source": [
    "def encode_texts(text, embedding_vocab, embedding_size):\n",
    "    emb_func = lambda sent: sentence_to_emb(sent, embedding_vocab, embedding_size)\n",
    "    emb_texts = np.array([emb_func(sent) for sent in text])\n",
    "    return emb_texts"
   ]
  },
  {
   "cell_type": "code",
   "execution_count": 7,
   "metadata": {
    "collapsed": true
   },
   "outputs": [],
   "source": [
    "\n",
    "X_train, X_test, y_train, y_test = split_data(train_df, 0.8)\n",
    "X_train = X_train.apply(clean_text)\n",
    "X_train = X_train.apply(lambda row: lemmatize_text(row))\n",
    "\n",
    "X_test = X_test.apply(clean_text)\n",
    "X_test = X_test.apply(lambda row: lemmatize_text(row))"
   ]
  },
  {
   "cell_type": "code",
   "execution_count": 10,
   "metadata": {},
   "outputs": [],
   "source": [
    "y_train = encode_authors(y_train)\n",
    "y_test = encode_authors(y_test)"
   ]
  },
  {
   "cell_type": "code",
   "execution_count": 16,
   "metadata": {},
   "outputs": [
    {
     "name": "stdout",
     "output_type": "stream",
     "text": [
      "Indexing word vectors.\n",
      "Found 400000 word vectors.\n"
     ]
    }
   ],
   "source": [
    "print('Indexing word vectors.')\n",
    "\n",
    "embeddings_index = {}\n",
    "f = open(os.path.join(GLOVE_DIR, 'glove.6B.100d.txt'), encoding='utf8')\n",
    "for line in f:\n",
    "    values = line.split()\n",
    "    word = values[0]\n",
    "    coefs = np.asarray(values[1:], dtype='float32')\n",
    "    embeddings_index[word] = coefs\n",
    "f.close()\n",
    "\n",
    "print('Found %s word vectors.' % len(embeddings_index))"
   ]
  },
  {
   "cell_type": "code",
   "execution_count": 18,
   "metadata": {
    "collapsed": true
   },
   "outputs": [],
   "source": [
    "train_df = create_df(\"train.csv\")\n",
    "texts = train_df.text.apply(clean_text)\n",
    "texts = texts.apply(lambda row: lemmatize_text(row))"
   ]
  },
  {
   "cell_type": "code",
   "execution_count": 19,
   "metadata": {},
   "outputs": [],
   "source": [
    "tokenizer = Tokenizer(num_words=MAX_NB_WORDS)\n",
    "tokenizer.fit_on_texts(texts)\n",
    "sequences = tokenizer.texts_to_sequences(texts)"
   ]
  },
  {
   "cell_type": "code",
   "execution_count": 20,
   "metadata": {},
   "outputs": [
    {
     "name": "stdout",
     "output_type": "stream",
     "text": [
      "Found 22282 unique tokens.\n"
     ]
    }
   ],
   "source": [
    "word_index = tokenizer.word_index\n",
    "print('Found %s unique tokens.' % len(word_index))"
   ]
  },
  {
   "cell_type": "code",
   "execution_count": 27,
   "metadata": {},
   "outputs": [],
   "source": [
    "num_words = min(MAX_NB_WORDS, len(word_index))\n",
    "embedding_matrix = np.zeros((num_words, EMBEDDING_DIM))\n",
    "for word, i in word_index.items():\n",
    "    if i >= MAX_NB_WORDS:\n",
    "        continue\n",
    "    embedding_vector = embeddings_index.get(word)\n",
    "    if embedding_vector is not None:\n",
    "        # words not found in embedding index will be all-zeros.\n",
    "        embedding_matrix[i] = embedding_vector"
   ]
  },
  {
   "cell_type": "code",
   "execution_count": 33,
   "metadata": {
    "collapsed": true
   },
   "outputs": [],
   "source": [
    "data = pad_sequences(sequences, maxlen=MAX_SEQUENCE_LENGTH)"
   ]
  },
  {
   "cell_type": "code",
   "execution_count": 37,
   "metadata": {},
   "outputs": [],
   "source": [
    "X_train, X_test, y_train, y_test = train_test_split(data, train_df.author, train_size=0.8, random_state=1)"
   ]
  },
  {
   "cell_type": "code",
   "execution_count": 40,
   "metadata": {},
   "outputs": [],
   "source": [
    "y_train = encode_authors(y_train)\n",
    "y_test = encode_authors(y_test)"
   ]
  },
  {
   "cell_type": "code",
   "execution_count": 44,
   "metadata": {},
   "outputs": [],
   "source": [
    "embedding_layer = Embedding(num_words,\n",
    "                            EMBEDDING_DIM,\n",
    "                            weights=[embedding_matrix],\n",
    "                            input_length=MAX_SEQUENCE_LENGTH,\n",
    "                            trainable=False)"
   ]
  },
  {
   "cell_type": "code",
   "execution_count": 103,
   "metadata": {
    "collapsed": true
   },
   "outputs": [],
   "source": [
    "batch_size = 64\n",
    "embedding_dims = 50\n",
    "filters = 250\n",
    "kernel_size = 3\n",
    "hidden_dims = 250\n",
    "epochs = 15"
   ]
  },
  {
   "cell_type": "code",
   "execution_count": 102,
   "metadata": {
    "collapsed": true
   },
   "outputs": [],
   "source": [
    "from keras import regularizers"
   ]
  },
  {
   "cell_type": "code",
   "execution_count": 104,
   "metadata": {},
   "outputs": [
    {
     "data": {
      "text/plain": [
       "\"\\nx = Dropout(0.2)(embedded_sequences)\\nx = Conv1D(filters,\\n                 kernel_size,\\n                 padding='valid',\\n                 activation='relu',\\n                 strides=1)(x)\\n# we use max pooling:\\nx = GlobalMaxPooling1D()(x)\\n\\n# We add a vanilla hidden layer:\\nx = Dense(hidden_dims)(x)\\nx = Dropout(0.2)(x)\\nx = Activation('relu')(x)\\n\\n# We project onto a single unit output layer, and squash it with a sigmoid:\\nx = Dense(3)(x)\\np = Activation('sigmoid')(x)\\n\""
      ]
     },
     "execution_count": 104,
     "metadata": {},
     "output_type": "execute_result"
    }
   ],
   "source": [
    "sequence_input = Input(shape=(MAX_SEQUENCE_LENGTH,), dtype='int32')\n",
    "embedded_sequences = embedding_layer(sequence_input)\n",
    "\n",
    "\n",
    "r = LSTM(100, return_sequences=False)(embedded_sequences)\n",
    "dr = Dropout(0.5)(r)\n",
    "de = Dense(256, activation='sigmoid', kernel_regularizer=regularizers.l2(0.01))(dr)\n",
    "dr2 = Dropout(0.5)(de)\n",
    "p = Dense(3, activation='sigmoid')(dr2)\n",
    "\"\"\"\n",
    "\n",
    "\n",
    "x = Conv1D(128, 5, activation='relu')(embedded_sequences)\n",
    "x = MaxPooling1D(5)(x)\n",
    "x = Conv1D(128, 5, activation='relu')(x)\n",
    "x = MaxPooling1D(5)(x)\n",
    "x = Conv1D(128, 5, activation='relu')(x)\n",
    "x = GlobalMaxPooling1D()(x)\n",
    "x = Dense(128, activation='relu')(x)\n",
    "p = Dense(3, activation='softmax')(x)\n",
    "\"\"\"\n",
    "\"\"\"\n",
    "x = Dropout(0.2)(embedded_sequences)\n",
    "x = Conv1D(filters,\n",
    "                 kernel_size,\n",
    "                 padding='valid',\n",
    "                 activation='relu',\n",
    "                 strides=1)(x)\n",
    "# we use max pooling:\n",
    "x = GlobalMaxPooling1D()(x)\n",
    "\n",
    "# We add a vanilla hidden layer:\n",
    "x = Dense(hidden_dims)(x)\n",
    "x = Dropout(0.2)(x)\n",
    "x = Activation('relu')(x)\n",
    "\n",
    "# We project onto a single unit output layer, and squash it with a sigmoid:\n",
    "x = Dense(3)(x)\n",
    "p = Activation('sigmoid')(x)\n",
    "\"\"\""
   ]
  },
  {
   "cell_type": "code",
   "execution_count": 105,
   "metadata": {
    "collapsed": true
   },
   "outputs": [],
   "source": [
    "model = Model(sequence_input, p)\n",
    "model.compile(loss='categorical_crossentropy',\n",
    "              optimizer='rmsprop',\n",
    "              metrics=['acc'])"
   ]
  },
  {
   "cell_type": "code",
   "execution_count": 106,
   "metadata": {},
   "outputs": [
    {
     "name": "stdout",
     "output_type": "stream",
     "text": [
      "Train on 15663 samples, validate on 3916 samples\n",
      "Epoch 1/15\n",
      "15663/15663 [==============================] - 70s - loss: 1.2222 - acc: 0.5009 - val_loss: 0.9264 - val_acc: 0.6027\n",
      "Epoch 2/15\n",
      "15663/15663 [==============================] - 71s - loss: 0.9547 - acc: 0.5925 - val_loss: 0.9114 - val_acc: 0.6162\n",
      "Epoch 3/15\n",
      "15663/15663 [==============================] - 68s - loss: 0.9265 - acc: 0.6141 - val_loss: 0.8700 - val_acc: 0.6422\n",
      "Epoch 4/15\n",
      "15663/15663 [==============================] - 68s - loss: 0.8937 - acc: 0.6298 - val_loss: 0.8659 - val_acc: 0.6456\n",
      "Epoch 5/15\n",
      "15663/15663 [==============================] - 73s - loss: 0.8637 - acc: 0.6493 - val_loss: 0.8816 - val_acc: 0.6315\n",
      "Epoch 6/15\n",
      "15663/15663 [==============================] - 85s - loss: 0.8413 - acc: 0.6594 - val_loss: 0.8656 - val_acc: 0.6466\n",
      "Epoch 7/15\n",
      "15663/15663 [==============================] - 86s - loss: 0.8143 - acc: 0.6764 - val_loss: 0.8295 - val_acc: 0.6655\n",
      "Epoch 8/15\n",
      "15663/15663 [==============================] - 70s - loss: 0.7926 - acc: 0.6874 - val_loss: 0.8535 - val_acc: 0.6468\n",
      "Epoch 9/15\n",
      "15663/15663 [==============================] - 68s - loss: 0.7749 - acc: 0.7016 - val_loss: 0.8072 - val_acc: 0.6744\n",
      "Epoch 10/15\n",
      "15663/15663 [==============================] - 67s - loss: 0.7534 - acc: 0.7111 - val_loss: 0.8202 - val_acc: 0.6731\n",
      "Epoch 11/15\n",
      "15663/15663 [==============================] - 67s - loss: 0.7253 - acc: 0.7257 - val_loss: 0.8636 - val_acc: 0.6591\n",
      "Epoch 12/15\n",
      "15663/15663 [==============================] - 69s - loss: 0.7004 - acc: 0.7423 - val_loss: 0.8070 - val_acc: 0.6818\n",
      "Epoch 13/15\n",
      "15663/15663 [==============================] - 67s - loss: 0.6794 - acc: 0.7518 - val_loss: 0.8091 - val_acc: 0.6790\n",
      "Epoch 14/15\n",
      "15663/15663 [==============================] - 75s - loss: 0.6605 - acc: 0.7614 - val_loss: 0.8200 - val_acc: 0.6867\n",
      "Epoch 15/15\n",
      "15663/15663 [==============================] - 71s - loss: 0.6425 - acc: 0.7680 - val_loss: 0.8173 - val_acc: 0.6905\n"
     ]
    },
    {
     "data": {
      "text/plain": [
       "<keras.callbacks.History at 0x1b0f5122e10>"
      ]
     },
     "execution_count": 106,
     "metadata": {},
     "output_type": "execute_result"
    }
   ],
   "source": [
    "model.fit(X_train, y_train,\n",
    "          batch_size=batch_size,\n",
    "          epochs=epochs,\n",
    "          validation_data=(X_test, y_test))"
   ]
  },
  {
   "cell_type": "code",
   "execution_count": 74,
   "metadata": {
    "collapsed": true
   },
   "outputs": [],
   "source": [
    "def words2sequences(words):\n",
    "    return [word2num[w]+3 if w in word2num else 2 for w in text_to_word_sequence(words)]"
   ]
  },
  {
   "cell_type": "code",
   "execution_count": 75,
   "metadata": {},
   "outputs": [
    {
     "name": "stdout",
     "output_type": "stream",
     "text": [
      "_________________________________________________________________\n",
      "Layer (type)                 Output Shape              Param #   \n",
      "=================================================================\n",
      "input_11 (InputLayer)        (None, 100)               0         \n",
      "_________________________________________________________________\n",
      "embedding_1 (Embedding)      (None, 100, 100)          2000000   \n",
      "_________________________________________________________________\n",
      "lstm_3 (LSTM)                (None, 100)               80400     \n",
      "_________________________________________________________________\n",
      "dropout_9 (Dropout)          (None, 100)               0         \n",
      "_________________________________________________________________\n",
      "dense_6 (Dense)              (None, 256)               25856     \n",
      "_________________________________________________________________\n",
      "dropout_10 (Dropout)         (None, 256)               0         \n",
      "_________________________________________________________________\n",
      "dense_7 (Dense)              (None, 3)                 771       \n",
      "=================================================================\n",
      "Total params: 2,107,027\n",
      "Trainable params: 107,027\n",
      "Non-trainable params: 2,000,000\n",
      "_________________________________________________________________\n"
     ]
    }
   ],
   "source": [
    "model.summary()"
   ]
  },
  {
   "cell_type": "code",
   "execution_count": 76,
   "metadata": {},
   "outputs": [
    {
     "data": {
      "text/plain": [
       "(20000, 100)"
      ]
     },
     "execution_count": 76,
     "metadata": {},
     "output_type": "execute_result"
    }
   ],
   "source": [
    "embed = model.layers[1].get_weights()[0]\n",
    "embed.shape"
   ]
  },
  {
   "cell_type": "code",
   "execution_count": 77,
   "metadata": {},
   "outputs": [
    {
     "data": {
      "text/plain": [
       "(20000, 2)"
      ]
     },
     "execution_count": 77,
     "metadata": {},
     "output_type": "execute_result"
    }
   ],
   "source": [
    "from sklearn.decomposition import PCA\n",
    "embed_2d = PCA(n_components = 2).fit_transform(embed)\n",
    "embed_2d.shape"
   ]
  },
  {
   "cell_type": "code",
   "execution_count": 79,
   "metadata": {
    "collapsed": true
   },
   "outputs": [],
   "source": [
    "word2num = word_index\n",
    "num2word = {v: k for k, v in word2num.items()}"
   ]
  },
  {
   "cell_type": "code",
   "execution_count": 81,
   "metadata": {
    "collapsed": true
   },
   "outputs": [],
   "source": [
    "from keras.preprocessing.text import text_to_word_sequence"
   ]
  },
  {
   "cell_type": "code",
   "execution_count": 101,
   "metadata": {},
   "outputs": [
    {
     "data": {
      "image/png": "[encoded data removed]",
      "text/plain": [
       "<matplotlib.figure.Figure at 0x1b0f4af4198>"
      ]
     },
     "metadata": {},
     "output_type": "display_data"
    }
   ],
   "source": [
    "import matplotlib.pyplot as plt\n",
    "plt.figure(figsize=(16,8))\n",
    "word_idx=[]\n",
    "for word in [\"blood\",\"terrible\",\"horrible\",\"frightful\",\"monster\"]:\n",
    "    idx = words2sequences(word)[0]\n",
    "    word_idx.append(idx)\n",
    "    plt.scatter(embed_2d[idx,0],embed_2d[idx,1],color=\"red\",s=100)\n",
    "    plt.text(embed_2d[idx, 0], embed_2d[idx, 1], num2word[idx- 3],fontsize=20)\n",
    "for word in [\"funny\", \"happy\", \"sun\", \"smile\"]:\n",
    "    idx = words2sequences(word)[0]\n",
    "    word_idx.append(idx)\n",
    "    plt.scatter(embed_2d[idx,0],embed_2d[idx,1],color=\"blue\",s=100)\n",
    "    plt.text(embed_2d[idx, 0], embed_2d[idx, 1], num2word[idx- 3],fontsize=20)\n",
    "\n",
    "for word in [\"home\", \"roof\", \"window\",\"cat\",\"mother\"]:\n",
    "    idx = words2sequences(word)[0]\n",
    "    word_idx.append(idx)\n",
    "    plt.scatter(embed_2d[idx,0],embed_2d[idx,1],color=\"gray\",s=100)\n",
    "    plt.text(embed_2d[idx, 0], embed_2d[idx, 1], num2word[idx- 3],fontsize=20)\n",
    "\n",
    "plt.show()"
   ]
  },
  {
   "cell_type": "code",
   "execution_count": null,
   "metadata": {
    "collapsed": true
   },
   "outputs": [],
   "source": []
  }
 ],
 "metadata": {
  "kernelspec": {
   "display_name": "Python 3",
   "language": "python",
   "name": "python3"
  },
  "language_info": {
   "codemirror_mode": {
    "name": "ipython",
    "version": 3
   },
   "file_extension": ".py",
   "mimetype": "text/x-python",
   "name": "python",
   "nbconvert_exporter": "python",
   "pygments_lexer": "ipython3",
   "version": "3.6.1"
  }
 },
 "nbformat": 4,
 "nbformat_minor": 2
}
