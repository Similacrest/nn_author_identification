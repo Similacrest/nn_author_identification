{
 "cells": [
  {
   "cell_type": "code",
   "execution_count": 1,
   "metadata": {},
   "outputs": [
    {
     "name": "stderr",
     "output_type": "stream",
     "text": [
      "Using TensorFlow backend.\n"
     ]
    }
   ],
   "source": [
    "from keras.layers import Embedding, Dense, LSTM, Activation, Dropout, BatchNormalization, GRU, Input, SimpleRNN\n",
    "from keras.models import Sequential, Model\n",
    "from keras import regularizers\n",
    "from keras.utils.np_utils import to_categorical\n",
    "from sklearn.model_selection import train_test_split\n",
    "from preprocessing2 import *"
   ]
  },
  {
   "cell_type": "code",
   "execution_count": 2,
   "metadata": {
    "collapsed": true
   },
   "outputs": [],
   "source": [
    "%load_ext autoreload\n",
    "%autoreload 2"
   ]
  },
  {
   "cell_type": "code",
   "execution_count": 3,
   "metadata": {
    "collapsed": true
   },
   "outputs": [],
   "source": [
    "def split_data(df, ratio, state=1):\n",
    "    \"\"\"\n",
    "    :param ratio: test fraction\n",
    "    :param state: random_state\n",
    "    :return:\n",
    "    \"\"\"\n",
    "    X = df.text\n",
    "    y = df.author\n",
    "    X_train, X_test, y_train, y_test = train_test_split(X, y, train_size=ratio, random_state=state)\n",
    "    return X_train, X_test, y_train, y_test"
   ]
  },
  {
   "cell_type": "code",
   "execution_count": 4,
   "metadata": {
    "collapsed": true
   },
   "outputs": [],
   "source": [
    "def encode_authors(labels):\n",
    "    \"\"\"\n",
    "    :param labels: np.array or list of string authors\n",
    "    :return: categorical list (for keras)\n",
    "    \"\"\"\n",
    "    authors_vocab = {\"EAP\": 0, \"HPL\": 1, \"MWS\": 2}\n",
    "    y = [authors_vocab[label] for label in labels]\n",
    "    y = to_categorical(y, num_classes=3)\n",
    "    return y"
   ]
  },
  {
   "cell_type": "code",
   "execution_count": 5,
   "metadata": {
    "collapsed": true
   },
   "outputs": [],
   "source": [
    "def encode_texts(text, embedding_vocab, embedding_size):\n",
    "    emb_func = lambda sent: sentence_to_emb(sent, embedding_vocab, embedding_size)\n",
    "    emb_texts = np.array([emb_func(sent) for sent in text])\n",
    "    return emb_texts"
   ]
  },
  {
   "cell_type": "code",
   "execution_count": 6,
   "metadata": {
    "collapsed": true
   },
   "outputs": [],
   "source": [
    "train_df = create_df(\"final_train.csv\")\n",
    "X_train, X_test, y_train, y_test = split_data(train_df, 0.8)\n",
    "X_train = X_train.apply(clean_text)\n",
    "X_train = X_train.apply(lambda row: lemmatize_text(row))\n",
    "\n",
    "X_test = X_test.apply(clean_text)\n",
    "X_test = X_test.apply(lambda row: lemmatize_text(row))"
   ]
  },
  {
   "cell_type": "code",
   "execution_count": 7,
   "metadata": {
    "collapsed": true
   },
   "outputs": [],
   "source": [
    "vocab_size = 50000\n",
    "vocab = get_vocabulary(X_train, length=vocab_size)\n",
    "emb_vocab = embedding_mapping(vocab)\n",
    "emb_vocab_size = len(emb_vocab)"
   ]
  },
  {
   "cell_type": "code",
   "execution_count": 8,
   "metadata": {
    "collapsed": true
   },
   "outputs": [],
   "source": [
    "embed_size = 64\n",
    "X_train = encode_texts(X_train, emb_vocab, embed_size)\n",
    "X_test = encode_texts(X_test, emb_vocab, embed_size)"
   ]
  },
  {
   "cell_type": "code",
   "execution_count": 9,
   "metadata": {
    "collapsed": true
   },
   "outputs": [],
   "source": [
    "y_train = encode_authors(y_train)\n",
    "y_test = encode_authors(y_test)"
   ]
  },
  {
   "cell_type": "code",
   "execution_count": 10,
   "metadata": {
    "collapsed": true
   },
   "outputs": [],
   "source": [
    "num_epochs = 5\n",
    "lstm_size = 50\n",
    "batch_size = 64"
   ]
  },
  {
   "cell_type": "code",
   "execution_count": 11,
   "metadata": {
    "collapsed": true
   },
   "outputs": [],
   "source": [
    "from keras import regularizers"
   ]
  },
  {
   "cell_type": "code",
   "execution_count": 16,
   "metadata": {},
   "outputs": [],
   "source": [
    "x = Input(shape=(None,), dtype='int32')\n",
    "e = Embedding(emb_vocab_size, embed_size, mask_zero=True)(x)\n",
    "r = GRU(lstm_size, return_sequences=False, recurrent_regularizer=regularizers.l2(0.01))(e)\n",
    "#r = SimpleRNN(50, return_sequences=False)(e)\n",
    "dr = Dropout(0.3)(r)\n",
    "de = Dense(256, activation='relu', kernel_regularizer=regularizers.l2(0.01))(dr)\n",
    "dr2 = Dropout(0.3)(de)\n",
    "p = Dense(3, activation='softmax')(dr2)\n",
    "\n",
    "model = Model(x, p)\n",
    "model.compile(loss='categorical_crossentropy', optimizer='adam', metrics=[\"accuracy\"])"
   ]
  },
  {
   "cell_type": "code",
   "execution_count": 17,
   "metadata": {},
   "outputs": [
    {
     "name": "stdout",
     "output_type": "stream",
     "text": [
      "_________________________________________________________________\n",
      "Layer (type)                 Output Shape              Param #   \n",
      "=================================================================\n",
      "input_2 (InputLayer)         (None, None)              0         \n",
      "_________________________________________________________________\n",
      "embedding_2 (Embedding)      (None, None, 64)          2006912   \n",
      "_________________________________________________________________\n",
      "gru_2 (GRU)                  (None, 50)                17250     \n",
      "_________________________________________________________________\n",
      "dropout_3 (Dropout)          (None, 50)                0         \n",
      "_________________________________________________________________\n",
      "dense_3 (Dense)              (None, 256)               13056     \n",
      "_________________________________________________________________\n",
      "dropout_4 (Dropout)          (None, 256)               0         \n",
      "_________________________________________________________________\n",
      "dense_4 (Dense)              (None, 3)                 771       \n",
      "=================================================================\n",
      "Total params: 2,037,989\n",
      "Trainable params: 2,037,989\n",
      "Non-trainable params: 0\n",
      "_________________________________________________________________\n"
     ]
    }
   ],
   "source": [
    "model.summary()"
   ]
  },
  {
   "cell_type": "code",
   "execution_count": 18,
   "metadata": {
    "scrolled": false
   },
   "outputs": [
    {
     "name": "stdout",
     "output_type": "stream",
     "text": [
      "Train on 32928 samples, validate on 8233 samples\n",
      "Epoch 1/5\n",
      "32928/32928 [==============================] - 68s - loss: 0.8362 - acc: 0.6887 - val_loss: 0.4556 - val_acc: 0.8519\n",
      "Epoch 2/5\n",
      "32928/32928 [==============================] - 67s - loss: 0.3229 - acc: 0.9072 - val_loss: 0.4147 - val_acc: 0.8678\n",
      "Epoch 3/5\n",
      "32928/32928 [==============================] - 67s - loss: 0.2224 - acc: 0.9442 - val_loss: 0.4621 - val_acc: 0.8596\n",
      "Epoch 4/5\n",
      "32928/32928 [==============================] - 67s - loss: 0.1750 - acc: 0.9582 - val_loss: 0.4677 - val_acc: 0.8570\n",
      "Epoch 5/5\n",
      "32928/32928 [==============================] - 67s - loss: 0.1482 - acc: 0.9644 - val_loss: 0.5091 - val_acc: 0.8555\n"
     ]
    },
    {
     "data": {
      "text/plain": [
       "<keras.callbacks.History at 0x18d43484b70>"
      ]
     },
     "execution_count": 18,
     "metadata": {},
     "output_type": "execute_result"
    }
   ],
   "source": [
    "#model = baseline_model(emb_vocab_size, embed_size, lstm_size)\n",
    "model.fit(X_train, y_train, batch_size=batch_size, epochs=num_epochs, validation_data=(X_test, y_test))"
   ]
  },
  {
   "cell_type": "code",
   "execution_count": 19,
   "metadata": {
    "collapsed": true
   },
   "outputs": [],
   "source": [
    "test_df = create_df(\"test.csv\")"
   ]
  },
  {
   "cell_type": "code",
   "execution_count": 20,
   "metadata": {
    "collapsed": true
   },
   "outputs": [],
   "source": [
    "X_final_test = test_df.text"
   ]
  },
  {
   "cell_type": "code",
   "execution_count": 21,
   "metadata": {
    "collapsed": true
   },
   "outputs": [],
   "source": [
    "X_final_test = X_final_test.apply(lambda row: lemmatize_text(row))\n",
    "X_final_test = X_final_test.apply(clean_text)"
   ]
  },
  {
   "cell_type": "code",
   "execution_count": 22,
   "metadata": {
    "collapsed": true
   },
   "outputs": [],
   "source": [
    "X_final_test = encode_texts(X_final_test, emb_vocab, embed_size)"
   ]
  },
  {
   "cell_type": "code",
   "execution_count": 23,
   "metadata": {
    "collapsed": true
   },
   "outputs": [],
   "source": [
    "prediction = model.predict(X_final_test)"
   ]
  },
  {
   "cell_type": "code",
   "execution_count": 49,
   "metadata": {},
   "outputs": [],
   "source": [
    "from sklearn.metrics import log_loss"
   ]
  },
  {
   "cell_type": "code",
   "execution_count": 24,
   "metadata": {},
   "outputs": [],
   "source": [
    "import copy"
   ]
  },
  {
   "cell_type": "code",
   "execution_count": 25,
   "metadata": {
    "collapsed": true
   },
   "outputs": [],
   "source": [
    "def oneHotVector(position, length):\n",
    "    res = np.zeros(length)\n",
    "    res[position] = 1\n",
    "    return res"
   ]
  },
  {
   "cell_type": "code",
   "execution_count": 26,
   "metadata": {
    "collapsed": true
   },
   "outputs": [],
   "source": [
    "def improvePrediction(y_pred):\n",
    "    res = copy.deepcopy(y_pred)\n",
    "    for i in range(len(res)):\n",
    "        for j in range(len(res[i])):\n",
    "            if res[i][j] > 0.95:\n",
    "                res[i] = oneHotVector(j, 3)\n",
    "    return res"
   ]
  },
  {
   "cell_type": "code",
   "execution_count": 85,
   "metadata": {},
   "outputs": [
    {
     "data": {
      "text/plain": [
       "2.1094237467877998e-15"
      ]
     },
     "execution_count": 85,
     "metadata": {},
     "output_type": "execute_result"
    }
   ],
   "source": [
    "log_loss(y_pred=y_test, y_true=y_test)"
   ]
  },
  {
   "cell_type": "code",
   "execution_count": 27,
   "metadata": {
    "collapsed": true
   },
   "outputs": [],
   "source": [
    "def getPredictionFile(predictions, ids):\n",
    "    pred_df = pd.DataFrame(columns=[\"id\", \"EAP\", \"HPL\", \"MWS\"], index=None)\n",
    "    pred_df.id = ids\n",
    "    pred_df.EAP = predictions[:, 0]\n",
    "    pred_df.HPL = predictions[:, 1]\n",
    "    pred_df.MWS = predictions[:, 2]\n",
    "    pred_df.to_csv(\"predictions.csv\")"
   ]
  },
  {
   "cell_type": "code",
   "execution_count": 28,
   "metadata": {},
   "outputs": [],
   "source": [
    "getPredictionFile(prediction, test_df.id)"
   ]
  },
  {
   "cell_type": "code",
   "execution_count": 76,
   "metadata": {},
   "outputs": [
    {
     "data": {
      "text/plain": [
       "array([[  2.88258161e-04,   9.99627352e-01,   8.43776652e-05],\n",
       "       [  9.58744407e-01,   1.11544295e-03,   4.01400700e-02],\n",
       "       [  9.97029543e-01,   1.74714066e-03,   1.22329209e-03],\n",
       "       ..., \n",
       "       [  2.55762693e-03,   9.96450305e-01,   9.92065296e-04],\n",
       "       [  9.98799443e-01,   3.82900995e-04,   8.17582186e-04],\n",
       "       [  9.99588788e-01,   1.49248095e-04,   2.61989800e-04]], dtype=float32)"
      ]
     },
     "execution_count": 76,
     "metadata": {},
     "output_type": "execute_result"
    }
   ],
   "source": [
    "val_pred"
   ]
  },
  {
   "cell_type": "code",
   "execution_count": 81,
   "metadata": {},
   "outputs": [
    {
     "data": {
      "text/plain": [
       "array([[ 0.,  1.,  0.],\n",
       "       [ 1.,  0.,  0.],\n",
       "       [ 1.,  0.,  0.],\n",
       "       ..., \n",
       "       [ 0.,  1.,  0.],\n",
       "       [ 1.,  0.,  0.],\n",
       "       [ 1.,  0.,  0.]], dtype=float32)"
      ]
     },
     "execution_count": 81,
     "metadata": {},
     "output_type": "execute_result"
    }
   ],
   "source": [
    "improvePrediction(val_pred)"
   ]
  },
  {
   "cell_type": "code",
   "execution_count": 42,
   "metadata": {},
   "outputs": [
    {
     "data": {
      "text/plain": [
       "array([  1.51138264e-03,   4.12596524e-01,   8.92786011e-02, ...,\n",
       "         9.92899776e-01,   1.84673036e-03,   3.52610186e-05], dtype=float32)"
      ]
     },
     "execution_count": 42,
     "metadata": {},
     "output_type": "execute_result"
    }
   ],
   "source": [
    "prediction[:,0]"
   ]
  },
  {
   "cell_type": "code",
   "execution_count": 43,
   "metadata": {},
   "outputs": [
    {
     "data": {
      "text/plain": [
       "array([[  1.51138264e-03,   1.50843145e-04,   9.98337746e-01],\n",
       "       [  4.12596524e-01,   5.78712523e-01,   8.69095884e-03],\n",
       "       [  8.92786011e-02,   9.08937812e-01,   1.78364315e-03],\n",
       "       ..., \n",
       "       [  9.92899776e-01,   2.72229430e-03,   4.37793462e-03],\n",
       "       [  1.84673036e-03,   1.45370286e-04,   9.98007953e-01],\n",
       "       [  3.52610186e-05,   9.99954939e-01,   9.82539950e-06]], dtype=float32)"
      ]
     },
     "execution_count": 43,
     "metadata": {},
     "output_type": "execute_result"
    }
   ],
   "source": [
    "prediction"
   ]
  },
  {
   "cell_type": "code",
   "execution_count": 30,
   "metadata": {
    "collapsed": true
   },
   "outputs": [],
   "source": [
    "word2num = emb_vocab\n",
    "num2word = {v: k for k, v in word2num.items()}"
   ]
  },
  {
   "cell_type": "code",
   "execution_count": 18,
   "metadata": {
    "collapsed": true
   },
   "outputs": [],
   "source": [
    "from keras.preprocessing.text import text_to_word_sequence"
   ]
  },
  {
   "cell_type": "code",
   "execution_count": 19,
   "metadata": {},
   "outputs": [
    {
     "data": {
      "text/plain": [
       "(24982, 64)"
      ]
     },
     "execution_count": 19,
     "metadata": {},
     "output_type": "execute_result"
    }
   ],
   "source": [
    "embed = model.layers[1].get_weights()[0]\n",
    "embed.shape"
   ]
  },
  {
   "cell_type": "code",
   "execution_count": 20,
   "metadata": {},
   "outputs": [
    {
     "data": {
      "text/plain": [
       "(24982, 2)"
      ]
     },
     "execution_count": 20,
     "metadata": {},
     "output_type": "execute_result"
    }
   ],
   "source": [
    "from sklearn.decomposition import PCA\n",
    "embed_2d = PCA(n_components = 2).fit_transform(embed)\n",
    "embed_2d.shape"
   ]
  },
  {
   "cell_type": "code",
   "execution_count": 56,
   "metadata": {
    "collapsed": true
   },
   "outputs": [],
   "source": [
    "def words2sequences(words):\n",
    "    return [word2num[w]+3 if w in word2num else 2 for w in text_to_word_sequence(words)]"
   ]
  },
  {
   "cell_type": "code",
   "execution_count": 53,
   "metadata": {},
   "outputs": [
    {
     "name": "stdout",
     "output_type": "stream",
     "text": [
      "5780\n",
      "12155\n",
      "1493\n",
      "903\n",
      "9949\n",
      "1987\n"
     ]
    },
    {
     "data": {
      "image/png": "[encoded data removed]",
      "text/plain": [
       "<matplotlib.figure.Figure at 0x23c8e6cdf98>"
      ]
     },
     "metadata": {},
     "output_type": "display_data"
    }
   ],
   "source": [
    "import matplotlib.pyplot as plt\n",
    "plt.figure(figsize=(16,8))\n",
    "word_idx=[]\n",
    "for word in [\"great\",\"awesome\",\"beautiful\",\"magnificent\",\"masterpiece\"]:\n",
    "    idx = words2sequences(word)[0]\n",
    "    word_idx.append(idx)\n",
    "    plt.scatter(embed_2d[idx,0],embed_2d[idx,1],color=\"red\",s=100)\n",
    "    plt.text(embed_2d[idx, 0], embed_2d[idx, 1], num2word[idx- 3],fontsize=20)\n",
    "for word in [\"bad\", \"terrible\", \"boring\", \"lame\"]:\n",
    "    idx = words2sequences(word)[0]\n",
    "    word_idx.append(idx)\n",
    "    plt.scatter(embed_2d[idx,0],embed_2d[idx,1],color=\"blue\",s=100)\n",
    "    plt.text(embed_2d[idx, 0], embed_2d[idx, 1], num2word[idx- 3],fontsize=20)\n",
    "\n",
    "for word in [\"actor\", \"apple\", \"stay\", \"dog\",\"and\",\"the\"]:\n",
    "    idx = words2sequences(word)[0]\n",
    "    word_idx.append(idx)\n",
    "    plt.scatter(embed_2d[idx,0],embed_2d[idx,1],color=\"gray\",s=100)\n",
    "    plt.text(embed_2d[idx, 0], embed_2d[idx, 1], num2word[idx- 3],fontsize=20)\n",
    "\n",
    "plt.show()"
   ]
  }
 ],
 "metadata": {
  "kernelspec": {
   "display_name": "Python 3",
   "language": "python",
   "name": "python3"
  },
  "language_info": {
   "codemirror_mode": {
    "name": "ipython",
    "version": 3
   },
   "file_extension": ".py",
   "mimetype": "text/x-python",
   "name": "python",
   "nbconvert_exporter": "python",
   "pygments_lexer": "ipython3",
   "version": "3.6.1"
  }
 },
 "nbformat": 4,
 "nbformat_minor": 2
}
